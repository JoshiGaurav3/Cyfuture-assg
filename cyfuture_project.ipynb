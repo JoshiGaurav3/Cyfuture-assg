{
 "cells": [
  {
   "cell_type": "markdown",
   "id": "1df7d424-886d-4567-a51a-ba0866256488",
   "metadata": {},
   "source": [
    "# hub"
   ]
  },
  {
   "cell_type": "code",
   "execution_count": 10,
   "id": "f81f6327-e483-4c31-b028-e5f4b75354eb",
   "metadata": {},
   "outputs": [
    {
     "name": "stdout",
     "output_type": "stream",
     "text": [
      "* Running on local URL:  http://127.0.0.1:7868\n",
      "\n",
      "To create a public link, set `share=True` in `launch()`.\n"
     ]
    },
    {
     "data": {
      "text/html": [
       "<div><iframe src=\"http://127.0.0.1:7868/\" width=\"100%\" height=\"500\" allow=\"autoplay; camera; microphone; clipboard-read; clipboard-write;\" frameborder=\"0\" allowfullscreen></iframe></div>"
      ],
      "text/plain": [
       "<IPython.core.display.HTML object>"
      ]
     },
     "metadata": {},
     "output_type": "display_data"
    },
    {
     "data": {
      "text/plain": []
     },
     "execution_count": 10,
     "metadata": {},
     "output_type": "execute_result"
    }
   ],
   "source": [
    "import tensorflow as tf\n",
    "import tensorflow_hub as hub\n",
    "import numpy as np\n",
    "import cv2\n",
    "import time\n",
    "import gradio as gr\n",
    "from skimage.metrics import structural_similarity as ssim\n",
    "\n",
    "tf.get_logger().setLevel('ERROR')\n",
    "\n",
    "# Load & Preprocess Images\n",
    "def load_img(img_path, target_size=(1024, 1024)):  \n",
    "    img = tf.io.read_file(img_path)\n",
    "    img = tf.image.decode_image(img, channels=3, expand_animations=False)\n",
    "    img = tf.image.convert_image_dtype(img, tf.float32)\n",
    "    img = tf.image.resize(img, target_size)\n",
    "    return img.numpy()\n",
    "\n",
    "# Calculate SSIM & PSNR\n",
    "def calculate_metrics(original, generated):\n",
    "    generated_resized = cv2.resize(generated, (original.shape[1], original.shape[0]))\n",
    "    original_gray = cv2.cvtColor(original, cv2.COLOR_RGB2GRAY)\n",
    "    generated_gray = cv2.cvtColor(generated_resized, cv2.COLOR_RGB2GRAY)\n",
    "    ssim_score, _ = ssim(original_gray, generated_gray, full=True)\n",
    "    psnr_score = cv2.PSNR(original, generated_resized)\n",
    "    return ssim_score, psnr_score\n",
    "\n",
    "# Compute Content & Style Loss\n",
    "def calculate_content_loss(original, generated):\n",
    "    original_gray = cv2.cvtColor(original, cv2.COLOR_RGB2GRAY)\n",
    "    generated_gray = cv2.cvtColor(generated, cv2.COLOR_RGB2GRAY)\n",
    "    return np.mean((original_gray - generated_gray) ** 2)  # Mean Squared Error\n",
    "\n",
    "def calculate_style_loss(style, generated):\n",
    "    style_gray = cv2.cvtColor(style, cv2.COLOR_RGB2GRAY)\n",
    "    generated_gray = cv2.cvtColor(generated, cv2.COLOR_RGB2GRAY)\n",
    "    return np.mean((style_gray - generated_gray) ** 2)  # Mean Squared Error\n",
    "\n",
    "# Load Style Transfer Model\n",
    "model_url = \"https://tfhub.dev/google/magenta/arbitrary-image-stylization-v1-256/2\"\n",
    "model = hub.load(model_url)\n",
    "\n",
    "# Print Model Parameter Details\n",
    "#print(\"Model Loaded. Parameter Count:\")\n",
    "#for var in model.variables:\n",
    "#    print(f\"Layer: {var.name}, Shape: {var.shape}\")\n",
    "\n",
    "# Function to Perform Style Transfer\n",
    "def style_transfer(content_img, style_img):\n",
    "    start_time = time.time()  # Start timer\n",
    "\n",
    "    content = load_img(content_img)\n",
    "    style = load_img(style_img)\n",
    "    \n",
    "    stylized_img = 0.6 * content + 0.5 * model(tf.expand_dims(content, 0), tf.expand_dims(style, 0))[0]\n",
    "    stylized_img_np = (stylized_img.numpy().squeeze() * 255).astype(np.uint8)\n",
    "    stylized_img_np = cv2.GaussianBlur(stylized_img_np, (5,5), 0)  \n",
    "\n",
    "    end_time = time.time()  # End timer\n",
    "    execution_time = end_time - start_time\n",
    "\n",
    "    # Compute Metrics\n",
    "    content_cv2 = cv2.imread(content_img)\n",
    "    content_cv2 = cv2.resize(content_cv2, (1024, 1024))  # Match resolution\n",
    "    content_cv2 = cv2.cvtColor(content_cv2, cv2.COLOR_BGR2RGB)\n",
    "\n",
    "    style_cv2 = cv2.imread(style_img)\n",
    "    style_cv2 = cv2.resize(style_cv2, (1024, 1024))\n",
    "    style_cv2 = cv2.cvtColor(style_cv2, cv2.COLOR_BGR2RGB)\n",
    "\n",
    "    ssim_score, psnr_score = calculate_metrics(content_cv2, stylized_img_np)\n",
    "    content_loss = calculate_content_loss(content_cv2, stylized_img_np)\n",
    "    style_loss = calculate_style_loss(style_cv2, stylized_img_np)\n",
    "\n",
    "    return stylized_img_np, f\"SSIM: {ssim_score:.4f} ,  PSNR: {psnr_score:.4f} ,  Content Loss: {content_loss:.4f} ,  Style Loss: {style_loss:.4f} ,  Execution Time: {execution_time:.2f}s\"\n",
    "\n",
    "# Gradio UI\n",
    "interface = gr.Interface(\n",
    "    fn=style_transfer,\n",
    "    inputs=[\n",
    "        gr.Image(type=\"filepath\", label=\"Upload Content Image\"),\n",
    "        gr.Image(type=\"filepath\", label=\"Upload Style Image\")\n",
    "    ],\n",
    "    outputs=[\n",
    "        gr.Image(label=\"Stylized Image\"),\n",
    "        gr.Textbox(label=\"Image Quality Metrics\")\n",
    "    ],\n",
    "    title=\"Neural Style Transfer\",\n",
    "    description=\"Upload a content image and a style image to apply style transfer.\"\n",
    ")\n",
    "\n",
    "# Launch UI\n",
    "interface.launch()\n"
   ]
  },
  {
   "cell_type": "code",
   "execution_count": null,
   "id": "75b6161e-151d-4e61-8698-663172589184",
   "metadata": {},
   "outputs": [],
   "source": []
  },
  {
   "cell_type": "code",
   "execution_count": null,
   "id": "00bc98ef-8099-4007-8113-2698a29405bf",
   "metadata": {},
   "outputs": [],
   "source": []
  },
  {
   "cell_type": "code",
   "execution_count": null,
   "id": "9e76e033-9d05-4ca1-905e-dbdc51b76d05",
   "metadata": {},
   "outputs": [],
   "source": []
  }
 ],
 "metadata": {
  "kernelspec": {
   "display_name": "Python 3 (ipykernel)",
   "language": "python",
   "name": "python3"
  },
  "language_info": {
   "codemirror_mode": {
    "name": "ipython",
    "version": 3
   },
   "file_extension": ".py",
   "mimetype": "text/x-python",
   "name": "python",
   "nbconvert_exporter": "python",
   "pygments_lexer": "ipython3",
   "version": "3.12.7"
  }
 },
 "nbformat": 4,
 "nbformat_minor": 5
}
